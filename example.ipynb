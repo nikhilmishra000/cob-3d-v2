{
 "cells": [
  {
   "cell_type": "code",
   "execution_count": null,
   "metadata": {},
   "outputs": [],
   "source": [
    "import matplotlib.pyplot as plt\n",
    "import torchvision\n",
    "from pytorch3d.ops.marching_cubes import marching_cubes\n",
    "from pytorch3d.ops import sample_points_from_meshes\n",
    "from pytorch3d.structures import Meshes\n",
    "\n",
    "from cob3d_dataset import COB3D\n",
    "from torch_utils import *\n",
    "from fcon_model import FCON\n",
    "import vis\n"
   ]
  },
  {
   "cell_type": "markdown",
   "metadata": {},
   "source": [
    "### Initialize the dataset"
   ]
  },
  {
   "cell_type": "code",
   "execution_count": null,
   "metadata": {},
   "outputs": [],
   "source": [
    "device = 'cuda' if torch.cuda.is_available() else \"cpu\"\n",
    "root = '/tmp/cob3d/v2  ## Change this to point to where you have the data downloaded!'\n",
    "\n",
    "dset = COB3D.load(root, target_scale=800)"
   ]
  },
  {
   "cell_type": "markdown",
   "metadata": {},
   "source": [
    "### Load a scene and visualize inputs"
   ]
  },
  {
   "cell_type": "code",
   "execution_count": null,
   "metadata": {},
   "outputs": [],
   "source": [
    "scene_id = '26ac1594-3d5e-a3ee-3278-d3a1e4b11d19'\n",
    "\n",
    "batch = to_torch(dset[scene_id], recursive=True, device=device)\n",
    "\n",
    "plt.figure(figsize=(12, 4))\n",
    "plt.subplot(131)\n",
    "vis.plot_rgb(batch['rgb'])\n",
    "plt.title(\"RGB:\")\n",
    "\n",
    "plt.subplot(132)\n",
    "vis.plot_rgb(batch['rgb'])\n",
    "for m in batch['masks']:\n",
    "    vis.plot_mask(m, edgecolor='w')\n",
    "plt.title(\"Instance Masks:\")\n",
    "\n",
    "plt.subplot(133)    \n",
    "plt.imshow(to_np(batch['depth_map']))\n",
    "plt.title(\"Depth Map:\")\n",
    "\n",
    "print(f'Scene ID: {scene_id}')"
   ]
  },
  {
   "cell_type": "markdown",
   "metadata": {},
   "source": [
    "### Visualize GT in 3D"
   ]
  },
  {
   "cell_type": "code",
   "execution_count": null,
   "metadata": {},
   "outputs": [],
   "source": [
    "point_map = depth2cloud(batch['depth_map'], batch['intrinsic']).permute(2,0,1)\n",
    "\n",
    "voxels = batch['voxel_grid']['voxels']\n",
    "extents = batch['voxel_grid']['extents']\n",
    "cam_from_obj = batch['obj_poses']['poses']\n",
    "scales = batch['obj_poses']['scales']\n",
    "\n",
    "voxel_shape = voxels.shape[1:]\n",
    "pts_normed = torch.stack(torch.meshgrid(*[torch.linspace(-1, 1, s, device=device) for s in voxel_shape], indexing='ij'), dim=-1)\n",
    "gt_pts_obj = (extents / scales)[:, None, None, None] * pts_normed\n",
    "gt_pts_cam = transform_points(cam_from_obj[:, None, None, None], gt_pts_obj)\n",
    "\n",
    "builder = vis.SceneBuilder.from_point_map(point_map, batch['rgb'])\n",
    "cmap = plt.get_cmap(\"hsv\")\n",
    "for i, (p, v) in enumerate(zip(gt_pts_cam, voxels)):\n",
    "    color = cmap(i / len(gt_pts_cam))[0:3]\n",
    "    builder.add_points(p[v][::10], color=color) # only plot every 10th point to make the rendering faster\n",
    "builder.show()"
   ]
  },
  {
   "cell_type": "markdown",
   "metadata": {},
   "source": [
    "### Load the pretrained F-CON model"
   ]
  },
  {
   "cell_type": "code",
   "execution_count": null,
   "metadata": {},
   "outputs": [],
   "source": [
    "ckpt = torch.load('checkpoints/fcon.pt', map_location='cpu')\n",
    "model = FCON(n_depth_bins=96, patch_size=64).to(device)\n",
    "model.load_state_dict(ckpt)"
   ]
  },
  {
   "cell_type": "markdown",
   "metadata": {},
   "source": [
    "### Do inference with the model and visualize predictions"
   ]
  },
  {
   "cell_type": "code",
   "execution_count": null,
   "metadata": {},
   "outputs": [],
   "source": [
    "out = model.predict(\n",
    "    batch['rgb'],\n",
    "    batch['intrinsic'],\n",
    "    point_map,\n",
    "    batch['boxes'],\n",
    "    batch['masks'],\n",
    "    batch['near_plane'],\n",
    "    batch['far_plane'],\n",
    ")\n",
    "probs = out['logits'].float().sigmoid()\n",
    "voxel_centers_cam = out['grid_centers']\n",
    "\n",
    "verts_idx_lst, faces_lst = marching_cubes(probs, 0.5, return_local_coords=False)\n",
    "verts_cam_lst = [interp3d(p.permute(3, 0, 1, 2), v.flip(-1)) for p, v in zip(voxel_centers_cam, verts_idx_lst)]\n",
    "pred_pts_cam = sample_points_from_meshes(Meshes(verts_cam_lst, faces_lst), 4096) \n",
    "\n",
    "builder = vis.SceneBuilder.from_point_map(point_map, batch['rgb'])\n",
    "for i, p in enumerate(pred_pts_cam):\n",
    "    color = cmap(i / len(pred_pts_cam))[0:3]\n",
    "    builder.add_points(p, color=color)\n",
    "\n",
    "builder.show()"
   ]
  },
  {
   "cell_type": "code",
   "execution_count": null,
   "metadata": {},
   "outputs": [],
   "source": []
  }
 ],
 "metadata": {
  "kernelspec": {
   "display_name": "Python 3 (ipykernel)",
   "language": "python",
   "name": "python3"
  },
  "language_info": {
   "codemirror_mode": {
    "name": "ipython",
    "version": 3
   },
   "file_extension": ".py",
   "mimetype": "text/x-python",
   "name": "python",
   "nbconvert_exporter": "python",
   "pygments_lexer": "ipython3",
   "version": "3.10.11"
  }
 },
 "nbformat": 4,
 "nbformat_minor": 2
}
